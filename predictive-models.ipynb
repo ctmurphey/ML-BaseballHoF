{
 "cells": [
  {
   "cell_type": "markdown",
   "metadata": {},
   "source": [
    "# Predictive-models\n",
    "\n",
    "This notebook will make a few different learning models, incorporating varying degrees of stats. A basic model will assess only the stats from the \"simple\" section of `baseballstats.py` (ERA, BA, etc.). An intermediate model will add in the intermediate stats (the \"+ stats\", award count, etc). Finally, an advanced model will bring the advnaced stats section (bWAR and fWAR). A few other may be constructed if time allows, perhaps to compare how effective bWAR is vs fWAR."
   ]
  },
  {
   "cell_type": "markdown",
   "metadata": {},
   "source": []
  }
 ],
 "metadata": {
  "interpreter": {
   "hash": "9872ef8b0dc660a0a25bd7c0fab15b129629031d2a9a1e4a962c2e098eec451a"
  },
  "kernelspec": {
   "display_name": "Python 3.9.11 ('baseball')",
   "language": "python",
   "name": "python3"
  },
  "language_info": {
   "name": "python",
   "version": "3.9.11"
  },
  "orig_nbformat": 4
 },
 "nbformat": 4,
 "nbformat_minor": 2
}
